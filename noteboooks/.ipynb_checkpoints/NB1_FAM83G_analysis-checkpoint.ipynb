{
 "cells": [
  {
   "cell_type": "markdown",
   "id": "c2308d43-4532-40dd-ab31-4225ed0afa3c",
   "metadata": {},
   "source": [
    "# IMPORTS"
   ]
  },
  {
   "cell_type": "code",
   "execution_count": 19,
   "id": "f63e8afa-1c3b-4421-8761-a0669a80ccdb",
   "metadata": {},
   "outputs": [],
   "source": [
    "import os\n",
    "import pandas as pd\n",
    "import matplotlib.pyplot as plt"
   ]
  },
  {
   "cell_type": "markdown",
   "id": "9fb0e42f-81b6-4c18-ae74-b9d164067e26",
   "metadata": {},
   "source": [
    "# FUNCTIONS"
   ]
  },
  {
   "cell_type": "code",
   "execution_count": 18,
   "id": "0308f55f-d347-4cea-b620-bcfe0a3b2d6c",
   "metadata": {},
   "outputs": [],
   "source": [
    "def plot_scatter_with_colors(df, x='norm_shenkin_rel', y='MES', colors=None):\n",
    "    \n",
    "    if colors is None:\n",
    "        raise ValueError(\"You must provide a list of colors.\")\n",
    "\n",
    "    # Get integer index from bs_id like \"BS3\" -> 3\n",
    "    indices = df['bs_id'].str.extract(r'BS(\\d+)')[0].astype(int)\n",
    "\n",
    "    # Plot\n",
    "    plt.figure(figsize=(5, 5), dpi = 150)\n",
    "    for i, row in df.iterrows():\n",
    "        color_idx = int(indices.loc[i])\n",
    "        plt.scatter(row[x], row[y], edgecolor = \"k\", linewidth = 1, s = 200, color=colors[color_idx], label=f'BS{color_idx}' if f'BS{color_idx}' not in plt.gca().get_legend_handles_labels()[1] else \"\")\n",
    "\n",
    "    plt.axhline(y=0, color='k', linestyle='--', linewidth = 1)\n",
    "    plt.xlabel(x)\n",
    "    plt.ylabel(y)\n",
    "    plt.ylim(-0.35, 0.35)\n",
    "    plt.axvline(x=50, color='k', linestyle='--', linewidth = 1)\n",
    "    plt.xlim(-10, 110)\n",
    "    plt.xlabel(\"NShenkin\")\n",
    "    plt.legend().set_visible(False)\n",
    "    plt.xticks([0, 25, 50, 75, 100])\n",
    "    plt.tight_layout()\n",
    "    plt.show()\n",
    "\n",
    "colors = [\n",
    "    '#cc5151',\n",
    "    '#7f3333',\n",
    "    '#51cccc',\n",
    "    '#337f7f',\n",
    "    '#8ecc51',\n",
    "    '#597f33',\n",
    "    '#8e51cc',\n",
    "]"
   ]
  },
  {
   "cell_type": "markdown",
   "id": "2ff6d1e9-789f-49be-9801-42318925a45b",
   "metadata": {},
   "source": [
    "# READING INPUT"
   ]
  },
  {
   "cell_type": "code",
   "execution_count": 26,
   "id": "ce4ffa9c-1c54-46c3-bee9-80e97c6a6fa5",
   "metadata": {},
   "outputs": [],
   "source": [
    "fragsys_dir = \"./../FAM83B_FRAGSYS/\"\n",
    "\n",
    "panddas = pd.read_csv(os.path.join(fragsys_dir, \"pandda_filt_df.csv\"))\n",
    "\n",
    "prots = pd.read_pickle(os.path.join(fragsys_dir, \"all_prots.pkl\"))\n",
    "\n",
    "bss = pd.read_pickle(os.path.join(fragsys_dir, \"all_bss.pkl\"))\n",
    "\n",
    "ress = pd.read_pickle(os.path.join(fragsys_dir, \"all_bs_ress.pkl\"))\n",
    "\n",
    "rsa_mm = pd.read_pickle(os.path.join(fragsys_dir, \"rsa_cluster_membership.pkl\"))"
   ]
  },
  {
   "cell_type": "code",
   "execution_count": 6,
   "id": "56bafa13-dd63-4fd0-becf-5580398cf0f0",
   "metadata": {},
   "outputs": [
    {
     "data": {
      "text/plain": [
       "['5qhi',\n",
       " '5qhj',\n",
       " '5qhk',\n",
       " '5qhl',\n",
       " '5qhm',\n",
       " '5qhn',\n",
       " '5qho',\n",
       " '5qhp',\n",
       " '5qhq',\n",
       " '5qhr',\n",
       " '5qhs']"
      ]
     },
     "execution_count": 6,
     "metadata": {},
     "output_type": "execute_result"
    }
   ],
   "source": [
    "sorted(panddas.query('entry_uniprot_accession == \"Q5T0W9\"').pdb_id.tolist())"
   ]
  },
  {
   "cell_type": "code",
   "execution_count": 8,
   "id": "8b7c7d69-4fa3-4575-864d-2e59430cc0a5",
   "metadata": {},
   "outputs": [
    {
     "data": {
      "text/html": [
       "<div>\n",
       "<style scoped>\n",
       "    .dataframe tbody tr th:only-of-type {\n",
       "        vertical-align: middle;\n",
       "    }\n",
       "\n",
       "    .dataframe tbody tr th {\n",
       "        vertical-align: top;\n",
       "    }\n",
       "\n",
       "    .dataframe thead th {\n",
       "        text-align: right;\n",
       "    }\n",
       "</style>\n",
       "<table border=\"1\" class=\"dataframe\">\n",
       "  <thead>\n",
       "    <tr style=\"text-align: right;\">\n",
       "      <th></th>\n",
       "      <th>bs_id</th>\n",
       "      <th>vars</th>\n",
       "      <th>occ</th>\n",
       "      <th>vars_per_occ</th>\n",
       "      <th>MES</th>\n",
       "      <th>p</th>\n",
       "      <th>norm_shenkin_rel</th>\n",
       "      <th>shenkin_ci</th>\n",
       "      <th>MES_ci</th>\n",
       "      <th>number_bs_res</th>\n",
       "      <th>number_ligs</th>\n",
       "      <th>prop_ligs</th>\n",
       "      <th>protein</th>\n",
       "      <th>group</th>\n",
       "    </tr>\n",
       "  </thead>\n",
       "  <tbody>\n",
       "    <tr>\n",
       "      <th>5</th>\n",
       "      <td>BS0</td>\n",
       "      <td>97</td>\n",
       "      <td>129</td>\n",
       "      <td>0.7519</td>\n",
       "      <td>0.2055</td>\n",
       "      <td>0.1387</td>\n",
       "      <td>33.8279</td>\n",
       "      <td>12.8270</td>\n",
       "      <td>0.2723</td>\n",
       "      <td>9</td>\n",
       "      <td>2</td>\n",
       "      <td>0.0833</td>\n",
       "      <td>Q5T0W9</td>\n",
       "      <td>0</td>\n",
       "    </tr>\n",
       "    <tr>\n",
       "      <th>6</th>\n",
       "      <td>BS1</td>\n",
       "      <td>103</td>\n",
       "      <td>160</td>\n",
       "      <td>0.6438</td>\n",
       "      <td>0.0401</td>\n",
       "      <td>0.7923</td>\n",
       "      <td>42.8183</td>\n",
       "      <td>13.9416</td>\n",
       "      <td>0.2571</td>\n",
       "      <td>12</td>\n",
       "      <td>4</td>\n",
       "      <td>0.1667</td>\n",
       "      <td>Q5T0W9</td>\n",
       "      <td>0</td>\n",
       "    </tr>\n",
       "    <tr>\n",
       "      <th>7</th>\n",
       "      <td>BS2</td>\n",
       "      <td>49</td>\n",
       "      <td>102</td>\n",
       "      <td>0.4804</td>\n",
       "      <td>-0.2661</td>\n",
       "      <td>0.1461</td>\n",
       "      <td>16.9079</td>\n",
       "      <td>14.4310</td>\n",
       "      <td>0.3474</td>\n",
       "      <td>6</td>\n",
       "      <td>4</td>\n",
       "      <td>0.1667</td>\n",
       "      <td>Q5T0W9</td>\n",
       "      <td>0</td>\n",
       "    </tr>\n",
       "    <tr>\n",
       "      <th>8</th>\n",
       "      <td>BS3</td>\n",
       "      <td>92</td>\n",
       "      <td>155</td>\n",
       "      <td>0.5935</td>\n",
       "      <td>-0.0471</td>\n",
       "      <td>0.7863</td>\n",
       "      <td>38.6110</td>\n",
       "      <td>12.9493</td>\n",
       "      <td>0.2670</td>\n",
       "      <td>12</td>\n",
       "      <td>2</td>\n",
       "      <td>0.0833</td>\n",
       "      <td>Q5T0W9</td>\n",
       "      <td>0</td>\n",
       "    </tr>\n",
       "    <tr>\n",
       "      <th>9</th>\n",
       "      <td>BS4</td>\n",
       "      <td>35</td>\n",
       "      <td>59</td>\n",
       "      <td>0.5932</td>\n",
       "      <td>-0.0457</td>\n",
       "      <td>0.9145</td>\n",
       "      <td>63.8639</td>\n",
       "      <td>17.6824</td>\n",
       "      <td>0.4236</td>\n",
       "      <td>4</td>\n",
       "      <td>2</td>\n",
       "      <td>0.0833</td>\n",
       "      <td>Q5T0W9</td>\n",
       "      <td>0</td>\n",
       "    </tr>\n",
       "    <tr>\n",
       "      <th>10</th>\n",
       "      <td>BS5</td>\n",
       "      <td>89</td>\n",
       "      <td>179</td>\n",
       "      <td>0.4972</td>\n",
       "      <td>-0.2381</td>\n",
       "      <td>0.0782</td>\n",
       "      <td>36.2151</td>\n",
       "      <td>13.8049</td>\n",
       "      <td>0.2635</td>\n",
       "      <td>12</td>\n",
       "      <td>10</td>\n",
       "      <td>0.4167</td>\n",
       "      <td>Q5T0W9</td>\n",
       "      <td>0</td>\n",
       "    </tr>\n",
       "  </tbody>\n",
       "</table>\n",
       "</div>"
      ],
      "text/plain": [
       "   bs_id  vars  occ  vars_per_occ     MES       p  norm_shenkin_rel  \\\n",
       "5    BS0    97  129        0.7519  0.2055  0.1387           33.8279   \n",
       "6    BS1   103  160        0.6438  0.0401  0.7923           42.8183   \n",
       "7    BS2    49  102        0.4804 -0.2661  0.1461           16.9079   \n",
       "8    BS3    92  155        0.5935 -0.0471  0.7863           38.6110   \n",
       "9    BS4    35   59        0.5932 -0.0457  0.9145           63.8639   \n",
       "10   BS5    89  179        0.4972 -0.2381  0.0782           36.2151   \n",
       "\n",
       "    shenkin_ci  MES_ci  number_bs_res  number_ligs  prop_ligs protein group  \n",
       "5      12.8270  0.2723              9            2     0.0833  Q5T0W9     0  \n",
       "6      13.9416  0.2571             12            4     0.1667  Q5T0W9     0  \n",
       "7      14.4310  0.3474              6            4     0.1667  Q5T0W9     0  \n",
       "8      12.9493  0.2670             12            2     0.0833  Q5T0W9     0  \n",
       "9      17.6824  0.4236              4            2     0.0833  Q5T0W9     0  \n",
       "10     13.8049  0.2635             12           10     0.4167  Q5T0W9     0  "
      ]
     },
     "execution_count": 8,
     "metadata": {},
     "output_type": "execute_result"
    }
   ],
   "source": [
    "bss.query('protein == \"Q5T0W9\"')"
   ]
  },
  {
   "cell_type": "code",
   "execution_count": 12,
   "id": "0855321a-f9c9-4cb6-8539-5c8d921fb148",
   "metadata": {},
   "outputs": [
    {
     "data": {
      "text/html": [
       "<div>\n",
       "<style scoped>\n",
       "    .dataframe tbody tr th:only-of-type {\n",
       "        vertical-align: middle;\n",
       "    }\n",
       "\n",
       "    .dataframe tbody tr th {\n",
       "        vertical-align: top;\n",
       "    }\n",
       "\n",
       "    .dataframe thead th {\n",
       "        text-align: right;\n",
       "    }\n",
       "</style>\n",
       "<table border=\"1\" class=\"dataframe\">\n",
       "  <thead>\n",
       "    <tr style=\"text-align: right;\">\n",
       "      <th></th>\n",
       "      <th>acc</th>\n",
       "      <th>group</th>\n",
       "      <th>n_strucs</th>\n",
       "      <th>n_ligs</th>\n",
       "      <th>n_un_ligs</th>\n",
       "      <th>n_bs</th>\n",
       "      <th>n_seqs</th>\n",
       "      <th>n_human_seqs</th>\n",
       "      <th>n_var_seqs</th>\n",
       "      <th>n_vars</th>\n",
       "      <th>n_human_res</th>\n",
       "      <th>vars_per_seq</th>\n",
       "      <th>vars_per_res</th>\n",
       "    </tr>\n",
       "  </thead>\n",
       "  <tbody>\n",
       "    <tr>\n",
       "      <th>2</th>\n",
       "      <td>Q5T0W9</td>\n",
       "      <td>0</td>\n",
       "      <td>11</td>\n",
       "      <td>24</td>\n",
       "      <td>10</td>\n",
       "      <td>6</td>\n",
       "      <td>415</td>\n",
       "      <td>16</td>\n",
       "      <td>16</td>\n",
       "      <td>1398</td>\n",
       "      <td>2254</td>\n",
       "      <td>87.38</td>\n",
       "      <td>0.62</td>\n",
       "    </tr>\n",
       "  </tbody>\n",
       "</table>\n",
       "</div>"
      ],
      "text/plain": [
       "      acc  group  n_strucs  n_ligs  n_un_ligs  n_bs  n_seqs  n_human_seqs  \\\n",
       "2  Q5T0W9      0        11      24         10     6     415            16   \n",
       "\n",
       "   n_var_seqs  n_vars  n_human_res  vars_per_seq  vars_per_res  \n",
       "2          16    1398         2254         87.38          0.62  "
      ]
     },
     "execution_count": 12,
     "metadata": {},
     "output_type": "execute_result"
    }
   ],
   "source": [
    "prots.query('acc == \"Q5T0W9\"')"
   ]
  },
  {
   "cell_type": "code",
   "execution_count": 14,
   "id": "2a3fce8d-92c1-482f-a77b-170e4534ae8b",
   "metadata": {},
   "outputs": [
    {
     "data": {
      "text/plain": [
       "36.22"
      ]
     },
     "execution_count": 14,
     "metadata": {},
     "output_type": "execute_result"
    }
   ],
   "source": [
    "round(ress.query('protein == \"Q5T0W9\" & BS5 == 1').drop_duplicates(\"UniProt_ResNum\").sort_values(by=\"UniProt_ResNum\").rel_norm_shenkin.mean(), 2)"
   ]
  },
  {
   "cell_type": "code",
   "execution_count": 20,
   "id": "d4b59b7c-142d-47bf-b7bc-48c9f46f84dd",
   "metadata": {},
   "outputs": [],
   "source": [
    "site_ress = ress.query('(protein == \"Q5T0W9\") & (BS5 == 1 | BS0 == 1)').drop_duplicates(\"UniProt_ResNum\").sort_values(by=\"UniProt_ResNum\")[[\"AA\", \"UniProt_ResNum\", \"abs_norm_shenkin\", \"rel_norm_shenkin\", \"oddsratio\", \"log_oddsratio\", \"pvalue\", \"BS0\", \"BS5\"]]"
   ]
  },
  {
   "cell_type": "markdown",
   "id": "5ea3ac74-8d5a-45d1-af61-b632c8cd8668",
   "metadata": {},
   "source": [
    "## CONSERVATION PLANE FOR FAM83B FRAGMENT BINDING SITES"
   ]
  },
  {
   "cell_type": "code",
   "execution_count": 21,
   "id": "9c5b6d0c-41fa-47a3-a667-d23419f5a8f4",
   "metadata": {},
   "outputs": [
    {
     "data": {
      "image/png": "[encoded data removed]",
      "text/plain": [
       "<Figure size 750x750 with 1 Axes>"
      ]
     },
     "metadata": {},
     "output_type": "display_data"
    }
   ],
   "source": [
    "plot_scatter_with_colors(bss.query('protein == \"Q5T0W9\"'), colors = colors)"
   ]
  },
  {
   "cell_type": "markdown",
   "id": "498ad155-98c9-4fa5-a41d-fbed520cb688",
   "metadata": {},
   "source": [
    "## CONSERVATION PLANE FOR FAM83B FRAGMENT SCREENING SITE OF INTEREST"
   ]
  },
  {
   "cell_type": "code",
   "execution_count": 22,
   "id": "fca57559-b183-4312-80c0-a2a661583081",
   "metadata": {},
   "outputs": [
    {
     "data": {
      "image/png": "[encoded data removed]",
      "text/plain": [
       "<Figure size 500x500 with 1 Axes>"
      ]
     },
     "metadata": {},
     "output_type": "display_data"
    }
   ],
   "source": [
    "plt.figure(figsize=(5, 5), dpi = 100)\n",
    "bbone_ress = [150, 178, 207, 234]\n",
    "site_ress_filt = site_ress.query('UniProt_ResNum not in @bbone_ress')\n",
    "plt.scatter(site_ress_filt.abs_norm_shenkin, site_ress_filt.log_oddsratio, color = \"#FF69B4\", s = 100, edgecolor = \"k\", linewidth = 1)\n",
    "# Add labels\n",
    "# for _, row in site_ress_filt.iterrows():\n",
    "#     label = f\"{row['AA']}{row['UniProt_ResNum']}\"\n",
    "#     plt.text(row.abs_norm_shenkin, row.log_oddsratio, label, fontsize=7, ha='center', va='bottom')\n",
    "\n",
    "plt.xlim(-10, 110)\n",
    "plt.ylim(-1.25, 1.25)\n",
    "plt.axhline(y=0, color='black', linestyle='--', linewidth = 1)\n",
    "plt.axvline(x=50, color='black', linestyle='--', linewidth = 1)\n",
    "plt.xticks([0, 25, 50, 75, 100])\n",
    "plt.xlabel(\"NShenkin\")\n",
    "plt.ylabel(\"MES\")\n",
    "plt.show()"
   ]
  }
 ],
 "metadata": {
  "kernelspec": {
   "display_name": "Python [conda env:myenv2]",
   "language": "python",
   "name": "conda-env-myenv2-py"
  },
  "language_info": {
   "codemirror_mode": {
    "name": "ipython",
    "version": 3
   },
   "file_extension": ".py",
   "mimetype": "text/x-python",
   "name": "python",
   "nbconvert_exporter": "python",
   "pygments_lexer": "ipython3",
   "version": "3.10.0"
  }
 },
 "nbformat": 4,
 "nbformat_minor": 5
}
